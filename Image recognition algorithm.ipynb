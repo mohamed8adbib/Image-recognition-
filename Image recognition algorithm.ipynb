{
 "cells": [
  {
   "cell_type": "code",
   "execution_count": 1,
   "metadata": {},
   "outputs": [
    {
     "name": "stdout",
     "output_type": "stream",
     "text": [
      "Extracting MNIST_data/train-images-idx3-ubyte.gz\n",
      "Extracting MNIST_data/train-labels-idx1-ubyte.gz\n",
      "Extracting MNIST_data/t10k-images-idx3-ubyte.gz\n",
      "Extracting MNIST_data/t10k-labels-idx1-ubyte.gz\n"
     ]
    }
   ],
   "source": [
    "import tensorflow as tf\n",
    "from tensorflow.examples.tutorials.mnist import input_data\n",
    "mnist = input_data.read_data_sets(\"MNIST_data/\",one_hot=True)"
   ]
  },
  {
   "cell_type": "code",
   "execution_count": 2,
   "metadata": {
    "collapsed": true
   },
   "outputs": [],
   "source": [
    "\n",
    "n_nodes_hl_1 = 500\n",
    "n_nodes_hl_2 = 500\n",
    "n_nodes_hl_3 = 500\n",
    "n_classes = 10\n",
    "batch_size = 100\n",
    "x = tf.placeholder('float',shape=[None,784])\n",
    "y = tf.placeholder('float')"
   ]
  },
  {
   "cell_type": "code",
   "execution_count": 3,
   "metadata": {
    "collapsed": true
   },
   "outputs": [],
   "source": [
    "def neural_network(data):\n",
    "    hidden_layer_1 = {'weights' : tf.Variable(tf.random_normal([784,n_nodes_hl_1])),\n",
    "                      'biases' : tf.Variable(tf.random_normal([n_nodes_hl_1])) }\n",
    "    hidden_layer_2 = {'weights' : tf.Variable(tf.random_normal([n_nodes_hl_1,n_nodes_hl_2])),\n",
    "                      'biases' : tf.Variable(tf.random_normal([n_nodes_hl_2])) }\n",
    "    hidden_layer_3 = {'weights' : tf.Variable(tf.random_normal([n_nodes_hl_2,n_nodes_hl_3])),\n",
    "                      'biases' : tf.Variable(tf.random_normal([n_nodes_hl_3])) }\n",
    "    output_layer = {'weights' : tf.Variable(tf.random_normal([n_nodes_hl_3,n_classes])),\n",
    "                    'biases' : tf.Variable(tf.random_normal([n_classes])) }\n",
    "    \n",
    "    #Y = W*X + B\n",
    "    \n",
    "    l1 = tf.add(tf.matmul(data,hidden_layer_1['weights']),hidden_layer_1['biases'])\n",
    "    l1 = tf.nn.relu(l1)\n",
    "    \n",
    "    l2 = tf.add(tf.matmul(l1,hidden_layer_2['weights']),hidden_layer_2['biases'])\n",
    "    l2 = tf.nn.relu(l2)\n",
    "    \n",
    "    l3 = tf.add(tf.matmul(l2,hidden_layer_3['weights']),hidden_layer_3['biases'])\n",
    "    l3 = tf.nn.relu(l3) \n",
    "    \n",
    "    output = tf.add(tf.matmul(l3,output_layer['weights']),output_layer['biases'])\n",
    "    \n",
    "    return output"
   ]
  },
  {
   "cell_type": "code",
   "execution_count": 4,
   "metadata": {
    "collapsed": true
   },
   "outputs": [],
   "source": [
    "\n",
    "def train_neural_network(x):\n",
    "    prediction = neural_network(x)\n",
    "    cost = tf.reduce_mean(tf.nn.softmax_cross_entropy_with_logits(labels=y,logits=prediction))\n",
    "    optimizer = tf.train.AdamOptimizer().minimize(cost)\n",
    "    hm_epochs = 10\n",
    "    with tf.Session() as sess :\n",
    "        sess.run(tf.global_variables_initializer())\n",
    "        for epoch in range(hm_epochs):\n",
    "            epoch_loss = 0\n",
    "            for _ in range(int(mnist.train.num_examples/batch_size)):\n",
    "                epoch_x , epoch_y = mnist.train.next_batch(batch_size=100)\n",
    "                _ , c = sess.run([optimizer,cost],feed_dict={x : epoch_x, y : epoch_y})\n",
    "                epoch_loss += c\n",
    "            print('Epoch' ,epoch ,'completed out of', hm_epochs ,'loss',epoch_loss)\n",
    "        correct = tf.equal(tf.arg_max(prediction,1),tf.arg_max(y,1))\n",
    "        accuracy = tf.reduce_mean(tf.cast(correct,'float'))\n",
    "        print('Accuracy',accuracy.eval({x:mnist.test.images,y:mnist.test.labels}))\n",
    "        \n"
   ]
  },
  {
   "cell_type": "code",
   "execution_count": 5,
   "metadata": {},
   "outputs": [
    {
     "name": "stdout",
     "output_type": "stream",
     "text": [
      "Epoch 0 completed out of 10 loss 1653521.91061\n",
      "Epoch 1 completed out of 10 loss 387790.66886\n",
      "Epoch 2 completed out of 10 loss 215710.090545\n",
      "Epoch 3 completed out of 10 loss 125253.924345\n",
      "Epoch 4 completed out of 10 loss 79189.1651616\n",
      "Epoch 5 completed out of 10 loss 47178.000729\n",
      "Epoch 6 completed out of 10 loss 31104.9071454\n",
      "Epoch 7 completed out of 10 loss 22812.9693775\n",
      "Epoch 8 completed out of 10 loss 20439.335729\n",
      "Epoch 9 completed out of 10 loss 17552.0818327\n",
      "Accuracy 0.9473\n"
     ]
    }
   ],
   "source": [
    "train_neural_network(x)"
   ]
  },
  {
   "cell_type": "code",
   "execution_count": null,
   "metadata": {
    "collapsed": true
   },
   "outputs": [],
   "source": []
  }
 ],
 "metadata": {
  "kernelspec": {
   "display_name": "Python 3",
   "language": "python",
   "name": "python3"
  },
  "language_info": {
   "codemirror_mode": {
    "name": "ipython",
    "version": 3
   },
   "file_extension": ".py",
   "mimetype": "text/x-python",
   "name": "python",
   "nbconvert_exporter": "python",
   "pygments_lexer": "ipython3",
   "version": "3.6.2"
  }
 },
 "nbformat": 4,
 "nbformat_minor": 2
}
